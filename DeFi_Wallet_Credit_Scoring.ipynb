{
  "nbformat": 4,
  "nbformat_minor": 0,
  "metadata": {
    "colab": {
      "provenance": [],
      "authorship_tag": "ABX9TyPVaWAUAiN9OfO/4UoTaIqN",
      "include_colab_link": true
    },
    "kernelspec": {
      "name": "python3",
      "display_name": "Python 3"
    },
    "language_info": {
      "name": "python"
    }
  },
  "cells": [
    {
      "cell_type": "markdown",
      "metadata": {
        "id": "view-in-github",
        "colab_type": "text"
      },
      "source": [
        "<a href=\"https://colab.research.google.com/github/Ruchi765/Assignment/blob/main/DeFi_Wallet_Credit_Scoring.ipynb\" target=\"_parent\"><img src=\"https://colab.research.google.com/assets/colab-badge.svg\" alt=\"Open In Colab\"/></a>"
      ]
    },
    {
      "cell_type": "code",
      "execution_count": 64,
      "metadata": {
        "id": "CYBWC7MuaMj2"
      },
      "outputs": [],
      "source": [
        "import pandas as pd\n",
        "import numpy as np\n",
        "import seaborn as sns\n",
        "import matplotlib.pyplot as plt\n",
        "from sklearn.preprocessing import MinMaxScaler\n",
        "from google.colab import files\n",
        "import json"
      ]
    },
    {
      "cell_type": "code",
      "source": [
        "uploaded = \"/content/user-wallet-transactions.json\""
      ],
      "metadata": {
        "id": "kYbYVnAtatfc"
      },
      "execution_count": 65,
      "outputs": []
    },
    {
      "cell_type": "code",
      "source": [
        "# Load JSON file\n",
        "def load_data(filename):\n",
        "    with open(filename) as f:\n",
        "        data = json.load(f)\n",
        "        return pd.json_normalize(data)"
      ],
      "metadata": {
        "id": "bD2py36Paymv"
      },
      "execution_count": 66,
      "outputs": []
    },
    {
      "cell_type": "code",
      "source": [
        "# Convert amount and price fields to float\n",
        "def parse_float(val):\n",
        "    try:\n",
        "        return float(val)\n",
        "    except:\n",
        "        return 0.0\n",
        "\n",
        "df['amount'] = df['actionData.amount'].apply(parse_float)\n",
        "df['price_usd'] = df['actionData.assetPriceUSD'].apply(parse_float)\n",
        "df['timestamp'] = pd.to_datetime(df['timestamp'])\n",
        "df['usd_value'] = df['amount'] * df['price_usd']\n"
      ],
      "metadata": {
        "id": "lNa2UXGM9IdW"
      },
      "execution_count": 67,
      "outputs": []
    },
    {
      "cell_type": "code",
      "source": [
        "# Inspect data structure\n",
        "print(df.info())\n",
        "print(\"\\nAction Counts:\")\n",
        "print(df['action'].value_counts())\n"
      ],
      "metadata": {
        "colab": {
          "base_uri": "https://localhost:8080/"
        },
        "id": "iWBIBhs4bI0Q",
        "outputId": "bb2d6bc5-7068-4ce6-f456-820f6301cd02"
      },
      "execution_count": 68,
      "outputs": [
        {
          "output_type": "stream",
          "name": "stdout",
          "text": [
            "<class 'pandas.core.frame.DataFrame'>\n",
            "RangeIndex: 100000 entries, 0 to 99999\n",
            "Data columns (total 38 columns):\n",
            " #   Column                              Non-Null Count   Dtype         \n",
            "---  ------                              --------------   -----         \n",
            " 0   userWallet                          100000 non-null  object        \n",
            " 1   network                             100000 non-null  object        \n",
            " 2   protocol                            100000 non-null  object        \n",
            " 3   txHash                              100000 non-null  object        \n",
            " 4   logId                               100000 non-null  object        \n",
            " 5   timestamp                           100000 non-null  datetime64[ns]\n",
            " 6   blockNumber                         100000 non-null  int64         \n",
            " 7   action                              100000 non-null  object        \n",
            " 8   __v                                 100000 non-null  int64         \n",
            " 9   _id.$oid                            100000 non-null  object        \n",
            " 10  actionData.type                     100000 non-null  object        \n",
            " 11  actionData.amount                   100000 non-null  object        \n",
            " 12  actionData.assetSymbol              100000 non-null  object        \n",
            " 13  actionData.assetPriceUSD            100000 non-null  object        \n",
            " 14  actionData.poolId                   100000 non-null  object        \n",
            " 15  actionData.userId                   100000 non-null  object        \n",
            " 16  createdAt.$date                     100000 non-null  object        \n",
            " 17  updatedAt.$date                     100000 non-null  object        \n",
            " 18  actionData.toId                     32305 non-null   object        \n",
            " 19  actionData.borrowRateMode           0 non-null       float64       \n",
            " 20  actionData.borrowRate               17086 non-null   object        \n",
            " 21  actionData.variableTokenDebt        17086 non-null   object        \n",
            " 22  actionData.stableTokenDebt          17086 non-null   object        \n",
            " 23  actionData.callerId                 17086 non-null   object        \n",
            " 24  actionData.useATokens               12553 non-null   object        \n",
            " 25  actionData.repayerId                12553 non-null   object        \n",
            " 26  actionData.liquidatorId             248 non-null     object        \n",
            " 27  actionData.collateralAmount         248 non-null     object        \n",
            " 28  actionData.collateralAssetPriceUSD  248 non-null     object        \n",
            " 29  actionData.principalAmount          248 non-null     float64       \n",
            " 30  actionData.borrowAssetPriceUSD      248 non-null     object        \n",
            " 31  actionData.collateralReserveId      248 non-null     object        \n",
            " 32  actionData.collateralReserveSymbol  248 non-null     object        \n",
            " 33  actionData.principalReserveId       248 non-null     object        \n",
            " 34  actionData.principalReserveSymbol   248 non-null     object        \n",
            " 35  amount                              100000 non-null  float64       \n",
            " 36  price_usd                           100000 non-null  float64       \n",
            " 37  usd_value                           100000 non-null  float64       \n",
            "dtypes: datetime64[ns](1), float64(5), int64(2), object(30)\n",
            "memory usage: 29.0+ MB\n",
            "None\n",
            "\n",
            "Action Counts:\n",
            "action\n",
            "deposit             37808\n",
            "redeemunderlying    32305\n",
            "borrow              17086\n",
            "repay               12553\n",
            "liquidationcall       248\n",
            "Name: count, dtype: int64\n"
          ]
        }
      ]
    },
    {
      "cell_type": "code",
      "source": [
        "def engineer_features(df):\n",
        "    # Ensure timestamp is in datetime format, assuming it's currently in seconds if not already\n",
        "    df['timestamp'] = pd.to_datetime(df['timestamp'], unit='s', errors='coerce')\n",
        "    df['actionData.principalAmount'] = pd.to_numeric(df['actionData.principalAmount'], errors='coerce')\n",
        "\n",
        "    grp = df.groupby('userWallet')\n",
        "\n",
        "    feats = pd.DataFrame({\n",
        "        'tx_count': grp.size(),\n",
        "        'n_deposit': grp['action'].apply(lambda x: (x=='deposit').sum()),\n",
        "        'n_borrow': grp['action'].apply(lambda x: (x=='borrow').sum()),\n",
        "        'n_repay': grp['action'].apply(lambda x: (x=='repay').sum()),\n",
        "        'n_redeem': grp['action'].apply(lambda x: (x=='redeemunderlying').sum()),\n",
        "        'n_liq': grp['action'].apply(lambda x: (x=='liquidationcall').sum()),\n",
        "        'amt_avg': grp['actionData.principalAmount'].mean(),\n",
        "        'amt_max': grp['actionData.principalAmount'].max(),\n",
        "        'active_days': grp['timestamp'].apply(lambda x: (x.max()-x.min()).days + 1),\n",
        "    })\n",
        "\n",
        "    # Handle potential division by zero\n",
        "    feats['tx_per_day'] = feats['tx_count'] / feats['active_days'].replace(0,1)\n",
        "    feats['repay_rate'] = feats['n_repay'] / feats['n_borrow'].replace(0, np.nan)\n",
        "    feats['repay_rate'] = feats['repay_rate'].fillna(0) # Fill NaN with 0 for wallets with no borrows\n",
        "\n",
        "    return feats"
      ],
      "metadata": {
        "id": "o1SFXpf8bMs_"
      },
      "execution_count": 69,
      "outputs": []
    },
    {
      "cell_type": "code",
      "source": [
        "def compute_score(features):\n",
        "    # You can adjust the weights or add more features as needed\n",
        "    score = (features['tx_count'] * 0.5) + (features['active_days'] * 0.3) + (features['n_deposit'] * 0.1) + (features['n_borrow'] * 0.05) + (features['n_repay'] * 0.05)\n",
        "    # Check if the score column has only non-finite values\n",
        "    if np.isfinite(score).all() and score.max() - score.min() > 0:\n",
        "        min_score = score.min()\n",
        "        max_score = score.max()\n",
        "        scaled_score = 1000 * (score - min_score) / (max_score - min_score)\n",
        "    else:\n",
        "         scaled_score = 0 # Or handle this case as appropriate\n",
        "\n",
        "    return scaled_score.astype(int)"
      ],
      "metadata": {
        "id": "d0fL5qIra8G2"
      },
      "execution_count": 70,
      "outputs": []
    },
    {
      "cell_type": "code",
      "source": [
        "features['score_raw'] = (\n",
        "    features['num_deposit'] * 2 +\n",
        "    features['num_repay'] * 3 +\n",
        "    features['active_days'] * 1 +\n",
        "    features['total_usd'] * 0.0001 -\n",
        "    features['num_liquidation'] * 5 -\n",
        "    features['num_borrow'] * 1\n",
        ")\n",
        "\n",
        "min_score = features['score_raw'].min()\n",
        "max_score = features['score_raw'].max()\n",
        "features['score'] = ((features['score_raw'] - min_score) / (max_score - min_score)) * 1000\n",
        "features['score'] = features['score'].clip(0, 1000).round().astype(int)  # ensure bounded and integer\n",
        "\n",
        "\n"
      ],
      "metadata": {
        "id": "MYgyqurlbOyK"
      },
      "execution_count": 71,
      "outputs": []
    },
    {
      "cell_type": "code",
      "source": [
        "def credit_tier(score):\n",
        "    if score <= 400:\n",
        "        return 'Low'\n",
        "    elif score <= 700:\n",
        "        return 'Medium'\n",
        "    else:\n",
        "        return 'High'\n",
        "\n",
        "features['credit_level'] = features['score'].apply(credit_tier)\n",
        "features[['userWallet', 'score', 'credit_level']].head()"
      ],
      "metadata": {
        "colab": {
          "base_uri": "https://localhost:8080/",
          "height": 206
        },
        "id": "60hb67fGbR9p",
        "outputId": "9f5620be-94a7-43c3-a209-5b4e40ad121d"
      },
      "execution_count": 72,
      "outputs": [
        {
          "output_type": "execute_result",
          "data": {
            "text/plain": [
              "                                   userWallet  score credit_level\n",
              "0  0x00000000001accfa9cef68cf5371a23025b6d4b6      0          Low\n",
              "1  0x000000000051d07a4fb3bd10121a343d85818da6      0          Low\n",
              "2  0x000000000096026fb41fc39f9875d164bd82e2dc      0          Low\n",
              "3  0x0000000000e189dd664b9ab08a33c4839953852c      0          Low\n",
              "4  0x0000000002032370b971dabd36d72f3e5a7bf1ee      2          Low"
            ],
            "text/html": [
              "\n",
              "  <div id=\"df-32526178-aa2c-4768-b88c-ddc75febd3d5\" class=\"colab-df-container\">\n",
              "    <div>\n",
              "<style scoped>\n",
              "    .dataframe tbody tr th:only-of-type {\n",
              "        vertical-align: middle;\n",
              "    }\n",
              "\n",
              "    .dataframe tbody tr th {\n",
              "        vertical-align: top;\n",
              "    }\n",
              "\n",
              "    .dataframe thead th {\n",
              "        text-align: right;\n",
              "    }\n",
              "</style>\n",
              "<table border=\"1\" class=\"dataframe\">\n",
              "  <thead>\n",
              "    <tr style=\"text-align: right;\">\n",
              "      <th></th>\n",
              "      <th>userWallet</th>\n",
              "      <th>score</th>\n",
              "      <th>credit_level</th>\n",
              "    </tr>\n",
              "  </thead>\n",
              "  <tbody>\n",
              "    <tr>\n",
              "      <th>0</th>\n",
              "      <td>0x00000000001accfa9cef68cf5371a23025b6d4b6</td>\n",
              "      <td>0</td>\n",
              "      <td>Low</td>\n",
              "    </tr>\n",
              "    <tr>\n",
              "      <th>1</th>\n",
              "      <td>0x000000000051d07a4fb3bd10121a343d85818da6</td>\n",
              "      <td>0</td>\n",
              "      <td>Low</td>\n",
              "    </tr>\n",
              "    <tr>\n",
              "      <th>2</th>\n",
              "      <td>0x000000000096026fb41fc39f9875d164bd82e2dc</td>\n",
              "      <td>0</td>\n",
              "      <td>Low</td>\n",
              "    </tr>\n",
              "    <tr>\n",
              "      <th>3</th>\n",
              "      <td>0x0000000000e189dd664b9ab08a33c4839953852c</td>\n",
              "      <td>0</td>\n",
              "      <td>Low</td>\n",
              "    </tr>\n",
              "    <tr>\n",
              "      <th>4</th>\n",
              "      <td>0x0000000002032370b971dabd36d72f3e5a7bf1ee</td>\n",
              "      <td>2</td>\n",
              "      <td>Low</td>\n",
              "    </tr>\n",
              "  </tbody>\n",
              "</table>\n",
              "</div>\n",
              "    <div class=\"colab-df-buttons\">\n",
              "\n",
              "  <div class=\"colab-df-container\">\n",
              "    <button class=\"colab-df-convert\" onclick=\"convertToInteractive('df-32526178-aa2c-4768-b88c-ddc75febd3d5')\"\n",
              "            title=\"Convert this dataframe to an interactive table.\"\n",
              "            style=\"display:none;\">\n",
              "\n",
              "  <svg xmlns=\"http://www.w3.org/2000/svg\" height=\"24px\" viewBox=\"0 -960 960 960\">\n",
              "    <path d=\"M120-120v-720h720v720H120Zm60-500h600v-160H180v160Zm220 220h160v-160H400v160Zm0 220h160v-160H400v160ZM180-400h160v-160H180v160Zm440 0h160v-160H620v160ZM180-180h160v-160H180v160Zm440 0h160v-160H620v160Z\"/>\n",
              "  </svg>\n",
              "    </button>\n",
              "\n",
              "  <style>\n",
              "    .colab-df-container {\n",
              "      display:flex;\n",
              "      gap: 12px;\n",
              "    }\n",
              "\n",
              "    .colab-df-convert {\n",
              "      background-color: #E8F0FE;\n",
              "      border: none;\n",
              "      border-radius: 50%;\n",
              "      cursor: pointer;\n",
              "      display: none;\n",
              "      fill: #1967D2;\n",
              "      height: 32px;\n",
              "      padding: 0 0 0 0;\n",
              "      width: 32px;\n",
              "    }\n",
              "\n",
              "    .colab-df-convert:hover {\n",
              "      background-color: #E2EBFA;\n",
              "      box-shadow: 0px 1px 2px rgba(60, 64, 67, 0.3), 0px 1px 3px 1px rgba(60, 64, 67, 0.15);\n",
              "      fill: #174EA6;\n",
              "    }\n",
              "\n",
              "    .colab-df-buttons div {\n",
              "      margin-bottom: 4px;\n",
              "    }\n",
              "\n",
              "    [theme=dark] .colab-df-convert {\n",
              "      background-color: #3B4455;\n",
              "      fill: #D2E3FC;\n",
              "    }\n",
              "\n",
              "    [theme=dark] .colab-df-convert:hover {\n",
              "      background-color: #434B5C;\n",
              "      box-shadow: 0px 1px 3px 1px rgba(0, 0, 0, 0.15);\n",
              "      filter: drop-shadow(0px 1px 2px rgba(0, 0, 0, 0.3));\n",
              "      fill: #FFFFFF;\n",
              "    }\n",
              "  </style>\n",
              "\n",
              "    <script>\n",
              "      const buttonEl =\n",
              "        document.querySelector('#df-32526178-aa2c-4768-b88c-ddc75febd3d5 button.colab-df-convert');\n",
              "      buttonEl.style.display =\n",
              "        google.colab.kernel.accessAllowed ? 'block' : 'none';\n",
              "\n",
              "      async function convertToInteractive(key) {\n",
              "        const element = document.querySelector('#df-32526178-aa2c-4768-b88c-ddc75febd3d5');\n",
              "        const dataTable =\n",
              "          await google.colab.kernel.invokeFunction('convertToInteractive',\n",
              "                                                    [key], {});\n",
              "        if (!dataTable) return;\n",
              "\n",
              "        const docLinkHtml = 'Like what you see? Visit the ' +\n",
              "          '<a target=\"_blank\" href=https://colab.research.google.com/notebooks/data_table.ipynb>data table notebook</a>'\n",
              "          + ' to learn more about interactive tables.';\n",
              "        element.innerHTML = '';\n",
              "        dataTable['output_type'] = 'display_data';\n",
              "        await google.colab.output.renderOutput(dataTable, element);\n",
              "        const docLink = document.createElement('div');\n",
              "        docLink.innerHTML = docLinkHtml;\n",
              "        element.appendChild(docLink);\n",
              "      }\n",
              "    </script>\n",
              "  </div>\n",
              "\n",
              "\n",
              "    <div id=\"df-198882dc-4b60-4b4d-aa7a-34c1a7ecd539\">\n",
              "      <button class=\"colab-df-quickchart\" onclick=\"quickchart('df-198882dc-4b60-4b4d-aa7a-34c1a7ecd539')\"\n",
              "                title=\"Suggest charts\"\n",
              "                style=\"display:none;\">\n",
              "\n",
              "<svg xmlns=\"http://www.w3.org/2000/svg\" height=\"24px\"viewBox=\"0 0 24 24\"\n",
              "     width=\"24px\">\n",
              "    <g>\n",
              "        <path d=\"M19 3H5c-1.1 0-2 .9-2 2v14c0 1.1.9 2 2 2h14c1.1 0 2-.9 2-2V5c0-1.1-.9-2-2-2zM9 17H7v-7h2v7zm4 0h-2V7h2v10zm4 0h-2v-4h2v4z\"/>\n",
              "    </g>\n",
              "</svg>\n",
              "      </button>\n",
              "\n",
              "<style>\n",
              "  .colab-df-quickchart {\n",
              "      --bg-color: #E8F0FE;\n",
              "      --fill-color: #1967D2;\n",
              "      --hover-bg-color: #E2EBFA;\n",
              "      --hover-fill-color: #174EA6;\n",
              "      --disabled-fill-color: #AAA;\n",
              "      --disabled-bg-color: #DDD;\n",
              "  }\n",
              "\n",
              "  [theme=dark] .colab-df-quickchart {\n",
              "      --bg-color: #3B4455;\n",
              "      --fill-color: #D2E3FC;\n",
              "      --hover-bg-color: #434B5C;\n",
              "      --hover-fill-color: #FFFFFF;\n",
              "      --disabled-bg-color: #3B4455;\n",
              "      --disabled-fill-color: #666;\n",
              "  }\n",
              "\n",
              "  .colab-df-quickchart {\n",
              "    background-color: var(--bg-color);\n",
              "    border: none;\n",
              "    border-radius: 50%;\n",
              "    cursor: pointer;\n",
              "    display: none;\n",
              "    fill: var(--fill-color);\n",
              "    height: 32px;\n",
              "    padding: 0;\n",
              "    width: 32px;\n",
              "  }\n",
              "\n",
              "  .colab-df-quickchart:hover {\n",
              "    background-color: var(--hover-bg-color);\n",
              "    box-shadow: 0 1px 2px rgba(60, 64, 67, 0.3), 0 1px 3px 1px rgba(60, 64, 67, 0.15);\n",
              "    fill: var(--button-hover-fill-color);\n",
              "  }\n",
              "\n",
              "  .colab-df-quickchart-complete:disabled,\n",
              "  .colab-df-quickchart-complete:disabled:hover {\n",
              "    background-color: var(--disabled-bg-color);\n",
              "    fill: var(--disabled-fill-color);\n",
              "    box-shadow: none;\n",
              "  }\n",
              "\n",
              "  .colab-df-spinner {\n",
              "    border: 2px solid var(--fill-color);\n",
              "    border-color: transparent;\n",
              "    border-bottom-color: var(--fill-color);\n",
              "    animation:\n",
              "      spin 1s steps(1) infinite;\n",
              "  }\n",
              "\n",
              "  @keyframes spin {\n",
              "    0% {\n",
              "      border-color: transparent;\n",
              "      border-bottom-color: var(--fill-color);\n",
              "      border-left-color: var(--fill-color);\n",
              "    }\n",
              "    20% {\n",
              "      border-color: transparent;\n",
              "      border-left-color: var(--fill-color);\n",
              "      border-top-color: var(--fill-color);\n",
              "    }\n",
              "    30% {\n",
              "      border-color: transparent;\n",
              "      border-left-color: var(--fill-color);\n",
              "      border-top-color: var(--fill-color);\n",
              "      border-right-color: var(--fill-color);\n",
              "    }\n",
              "    40% {\n",
              "      border-color: transparent;\n",
              "      border-right-color: var(--fill-color);\n",
              "      border-top-color: var(--fill-color);\n",
              "    }\n",
              "    60% {\n",
              "      border-color: transparent;\n",
              "      border-right-color: var(--fill-color);\n",
              "    }\n",
              "    80% {\n",
              "      border-color: transparent;\n",
              "      border-right-color: var(--fill-color);\n",
              "      border-bottom-color: var(--fill-color);\n",
              "    }\n",
              "    90% {\n",
              "      border-color: transparent;\n",
              "      border-bottom-color: var(--fill-color);\n",
              "    }\n",
              "  }\n",
              "</style>\n",
              "\n",
              "      <script>\n",
              "        async function quickchart(key) {\n",
              "          const quickchartButtonEl =\n",
              "            document.querySelector('#' + key + ' button');\n",
              "          quickchartButtonEl.disabled = true;  // To prevent multiple clicks.\n",
              "          quickchartButtonEl.classList.add('colab-df-spinner');\n",
              "          try {\n",
              "            const charts = await google.colab.kernel.invokeFunction(\n",
              "                'suggestCharts', [key], {});\n",
              "          } catch (error) {\n",
              "            console.error('Error during call to suggestCharts:', error);\n",
              "          }\n",
              "          quickchartButtonEl.classList.remove('colab-df-spinner');\n",
              "          quickchartButtonEl.classList.add('colab-df-quickchart-complete');\n",
              "        }\n",
              "        (() => {\n",
              "          let quickchartButtonEl =\n",
              "            document.querySelector('#df-198882dc-4b60-4b4d-aa7a-34c1a7ecd539 button');\n",
              "          quickchartButtonEl.style.display =\n",
              "            google.colab.kernel.accessAllowed ? 'block' : 'none';\n",
              "        })();\n",
              "      </script>\n",
              "    </div>\n",
              "\n",
              "    </div>\n",
              "  </div>\n"
            ],
            "application/vnd.google.colaboratory.intrinsic+json": {
              "type": "dataframe",
              "summary": "{\n  \"name\": \"features[['userWallet', 'score', 'credit_level']]\",\n  \"rows\": 5,\n  \"fields\": [\n    {\n      \"column\": \"userWallet\",\n      \"properties\": {\n        \"dtype\": \"string\",\n        \"num_unique_values\": 5,\n        \"samples\": [\n          \"0x000000000051d07a4fb3bd10121a343d85818da6\",\n          \"0x0000000002032370b971dabd36d72f3e5a7bf1ee\",\n          \"0x000000000096026fb41fc39f9875d164bd82e2dc\"\n        ],\n        \"semantic_type\": \"\",\n        \"description\": \"\"\n      }\n    },\n    {\n      \"column\": \"score\",\n      \"properties\": {\n        \"dtype\": \"number\",\n        \"std\": 0,\n        \"min\": 0,\n        \"max\": 2,\n        \"num_unique_values\": 2,\n        \"samples\": [\n          2,\n          0\n        ],\n        \"semantic_type\": \"\",\n        \"description\": \"\"\n      }\n    },\n    {\n      \"column\": \"credit_level\",\n      \"properties\": {\n        \"dtype\": \"category\",\n        \"num_unique_values\": 1,\n        \"samples\": [\n          \"Low\"\n        ],\n        \"semantic_type\": \"\",\n        \"description\": \"\"\n      }\n    }\n  ]\n}"
            }
          },
          "metadata": {},
          "execution_count": 72
        }
      ]
    },
    {
      "cell_type": "code",
      "source": [
        "features[['userWallet', 'score','credit_level']].to_csv('wallet_scores.csv', index=False)\n",
        "files.download('wallet_scores.csv')"
      ],
      "metadata": {
        "colab": {
          "base_uri": "https://localhost:8080/",
          "height": 17
        },
        "id": "Df7I88UPbXUo",
        "outputId": "195e2cf1-1cdc-40a2-8f96-72425c00b6da"
      },
      "execution_count": 77,
      "outputs": [
        {
          "output_type": "display_data",
          "data": {
            "text/plain": [
              "<IPython.core.display.Javascript object>"
            ],
            "application/javascript": [
              "\n",
              "    async function download(id, filename, size) {\n",
              "      if (!google.colab.kernel.accessAllowed) {\n",
              "        return;\n",
              "      }\n",
              "      const div = document.createElement('div');\n",
              "      const label = document.createElement('label');\n",
              "      label.textContent = `Downloading \"${filename}\": `;\n",
              "      div.appendChild(label);\n",
              "      const progress = document.createElement('progress');\n",
              "      progress.max = size;\n",
              "      div.appendChild(progress);\n",
              "      document.body.appendChild(div);\n",
              "\n",
              "      const buffers = [];\n",
              "      let downloaded = 0;\n",
              "\n",
              "      const channel = await google.colab.kernel.comms.open(id);\n",
              "      // Send a message to notify the kernel that we're ready.\n",
              "      channel.send({})\n",
              "\n",
              "      for await (const message of channel.messages) {\n",
              "        // Send a message to notify the kernel that we're ready.\n",
              "        channel.send({})\n",
              "        if (message.buffers) {\n",
              "          for (const buffer of message.buffers) {\n",
              "            buffers.push(buffer);\n",
              "            downloaded += buffer.byteLength;\n",
              "            progress.value = downloaded;\n",
              "          }\n",
              "        }\n",
              "      }\n",
              "      const blob = new Blob(buffers, {type: 'application/binary'});\n",
              "      const a = document.createElement('a');\n",
              "      a.href = window.URL.createObjectURL(blob);\n",
              "      a.download = filename;\n",
              "      div.appendChild(a);\n",
              "      a.click();\n",
              "      div.remove();\n",
              "    }\n",
              "  "
            ]
          },
          "metadata": {}
        },
        {
          "output_type": "display_data",
          "data": {
            "text/plain": [
              "<IPython.core.display.Javascript object>"
            ],
            "application/javascript": [
              "download(\"download_5273b1ca-addf-48ce-ade2-7c9fe7873fbe\", \"wallet_scores.csv\", 171458)"
            ]
          },
          "metadata": {}
        }
      ]
    },
    {
      "cell_type": "code",
      "metadata": {
        "colab": {
          "base_uri": "https://localhost:8080/",
          "height": 472
        },
        "id": "245669f7",
        "outputId": "8e03e0c0-5649-4f69-8128-622595c884cc"
      },
      "source": [
        "# Plot distribution of scores\n",
        "sns.histplot(features['score'], bins=10, kde=True)\n",
        "plt.title('Credit Score Distribution')\n",
        "plt.xlabel('Score')\n",
        "plt.ylabel('Wallet Count')\n",
        "plt.show()\n"
      ],
      "execution_count": 74,
      "outputs": [
        {
          "output_type": "display_data",
          "data": {
            "text/plain": [
              "<Figure size 640x480 with 1 Axes>"
            ],
            "image/png": "[encoded data removed]"
          },
          "metadata": {}
        }
      ]
    },
    {
      "cell_type": "code",
      "source": [
        "# Analyze low vs high score wallets\n",
        "low_score_wallets = features[features['score'] < 200]\n",
        "high_score_wallets = features[features['score'] > 800]\n",
        "\n",
        "print(\"\\nLow Score Wallet Behavior:\\n\", low_score_wallets.describe())\n",
        "print(\"\\nHigh Score Wallet Behavior:\\n\", high_score_wallets.describe())\n"
      ],
      "metadata": {
        "colab": {
          "base_uri": "https://localhost:8080/"
        },
        "id": "ry4RiLLInzfn",
        "outputId": "022a9437-64e2-4cd1-a487-39ebfaec3ad0"
      },
      "execution_count": 75,
      "outputs": [
        {
          "output_type": "stream",
          "name": "stdout",
          "text": [
            "\n",
            "Low Score Wallet Behavior:\n",
            "           total_txn  num_deposit   num_borrow    num_repay    num_redeem  \\\n",
            "count   3491.000000  3491.000000  3491.000000  3491.000000   3491.000000   \n",
            "mean      28.341449    10.708107     4.831280     3.551418      9.179605   \n",
            "std      250.783846    29.585046    15.037714    13.325606    242.715710   \n",
            "min        1.000000     0.000000     0.000000     0.000000      0.000000   \n",
            "25%        1.000000     1.000000     0.000000     0.000000      0.000000   \n",
            "50%        3.000000     2.000000     0.000000     0.000000      0.000000   \n",
            "75%       16.000000     6.000000     3.000000     2.000000      3.000000   \n",
            "max    14265.000000   511.000000   200.000000   291.000000  14265.000000   \n",
            "\n",
            "       num_liquidation     total_usd  active_days     score_raw        score  \n",
            "count      3491.000000  3.491000e+03  3491.000000  3.491000e+03  3491.000000  \n",
            "mean          0.071040  1.498269e+23    22.548840  1.498269e+19     0.765110  \n",
            "std           0.693478  1.399635e+24    33.136422  1.399635e+20     7.322364  \n",
            "min           0.000000  9.236938e+01     1.000000  3.009237e+00     0.000000  \n",
            "25%           0.000000  2.309422e+14     1.000000  2.309422e+10     0.000000  \n",
            "50%           0.000000  4.920459e+18     3.000000  4.920459e+14     0.000000  \n",
            "75%           0.000000  4.131270e+21    33.000000  4.131270e+17     0.000000  \n",
            "max          26.000000  3.749697e+25   154.000000  3.749697e+21   196.000000  \n",
            "\n",
            "High Score Wallet Behavior:\n",
            "        total_txn  num_deposit  num_borrow  num_repay  num_redeem  \\\n",
            "count        1.0          1.0         1.0        1.0         1.0   \n",
            "mean       162.0         59.0        45.0       21.0        37.0   \n",
            "std          NaN          NaN         NaN        NaN         NaN   \n",
            "min        162.0         59.0        45.0       21.0        37.0   \n",
            "25%        162.0         59.0        45.0       21.0        37.0   \n",
            "50%        162.0         59.0        45.0       21.0        37.0   \n",
            "75%        162.0         59.0        45.0       21.0        37.0   \n",
            "max        162.0         59.0        45.0       21.0        37.0   \n",
            "\n",
            "       num_liquidation     total_usd  active_days     score_raw   score  \n",
            "count              1.0  1.000000e+00          1.0  1.000000e+00     1.0  \n",
            "mean               0.0  1.912249e+26         25.0  1.912249e+22  1000.0  \n",
            "std                NaN           NaN          NaN           NaN     NaN  \n",
            "min                0.0  1.912249e+26         25.0  1.912249e+22  1000.0  \n",
            "25%                0.0  1.912249e+26         25.0  1.912249e+22  1000.0  \n",
            "50%                0.0  1.912249e+26         25.0  1.912249e+22  1000.0  \n",
            "75%                0.0  1.912249e+26         25.0  1.912249e+22  1000.0  \n",
            "max                0.0  1.912249e+26         25.0  1.912249e+22  1000.0  \n"
          ]
        }
      ]
    },
    {
      "cell_type": "code",
      "source": [],
      "metadata": {
        "id": "iq2z1hS9_0wM"
      },
      "execution_count": null,
      "outputs": []
    }
  ]
}